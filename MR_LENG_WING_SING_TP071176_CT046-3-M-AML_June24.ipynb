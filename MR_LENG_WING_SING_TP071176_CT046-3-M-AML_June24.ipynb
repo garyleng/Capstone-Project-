{
  "nbformat": 4,
  "nbformat_minor": 0,
  "metadata": {
    "colab": {
      "provenance": [],
      "authorship_tag": "ABX9TyNrOkyWIEuehfTKHAoPC7Mx",
      "include_colab_link": true
    },
    "kernelspec": {
      "name": "python3",
      "display_name": "Python 3"
    },
    "language_info": {
      "name": "python"
    }
  },
  "cells": [
    {
      "cell_type": "markdown",
      "metadata": {
        "id": "view-in-github",
        "colab_type": "text"
      },
      "source": [
        "<a href=\"https://colab.research.google.com/github/garyleng/Capstone-Project-/blob/master/MR_LENG_WING_SING_TP071176_CT046-3-M-AML_June24.ipynb\" target=\"_parent\"><img src=\"https://colab.research.google.com/assets/colab-badge.svg\" alt=\"Open In Colab\"/></a>"
      ]
    },
    {
      "cell_type": "markdown",
      "source": [
        "LENG WING SING\n",
        "TP071176\n",
        "\n",
        "# Applied Machine Learning                      CT046-3-M-AML                          \n",
        "Individual Assignment\n"
      ],
      "metadata": {
        "id": "s6hr8j7h2tXw"
      }
    },
    {
      "cell_type": "markdown",
      "source": [
        "# Content:\n",
        "\n",
        "For the assignment, you are required to explore the application of Applied Machine Learning (AML) techniques to the data problem of your choice.  You may choose to study any data problem, giving special consideration to the unique properties of the problem domain, and testing one or more methods on it (at least 3 models). You may ensure that the dataset is sufficiently challenging so that there is room to demonstrate your creativity and knowledge in the subject to address these challenges.  "
      ],
      "metadata": {
        "id": "JPnp-KBS3IGd"
      }
    },
    {
      "cell_type": "code",
      "source": [],
      "metadata": {
        "id": "hqQUDvUc3Zk7"
      },
      "execution_count": null,
      "outputs": []
    }
  ]
}